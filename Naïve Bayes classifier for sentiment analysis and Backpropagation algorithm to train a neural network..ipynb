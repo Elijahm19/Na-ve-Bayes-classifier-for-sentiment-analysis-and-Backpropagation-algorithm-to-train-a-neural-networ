{
 "cells": [
  {
   "cell_type": "markdown",
   "id": "64e4069d",
   "metadata": {},
   "source": [
    "### Naïve Bayes Classifier for Sentiment Analysis of Amazon Users’ Reviews of Refurbished iPhone 7s\n",
    "Naive Bayes is one of the simplest classification algorithms for large chunks of data. It is used in various applications such as spam filtering, text classification, sentiment analysis, and recommendation systems. It uses the Bayes probability theorem for unknown class prediction."
   ]
  },
  {
   "cell_type": "markdown",
   "id": "2f11aece",
   "metadata": {},
   "source": [
    "### Importing Packages"
   ]
  },
  {
   "cell_type": "code",
   "execution_count": 5,
   "id": "79a7a0e5",
   "metadata": {},
   "outputs": [],
   "source": [
    "import pandas as pd\n",
    "from sklearn.feature_extraction.text import CountVectorizer\n",
    "from sklearn.naive_bayes import MultinomialNB\n",
    "from sklearn.metrics import confusion_matrix\n",
    "import numpy as np \n",
    "import scipy \n",
    "from sklearn.model_selection import train_test_split\n",
    "import warnings\n",
    "warnings.filterwarnings('ignore')"
   ]
  },
  {
   "cell_type": "code",
   "execution_count": 6,
   "id": "8d8da48c",
   "metadata": {},
   "outputs": [],
   "source": [
    "# Given a list of tokens and a list of vocabulary\n",
    "# Return the count of each vocabulary occurance in the list of tokens\n",
    "def vectorize(tokens, filtered_vocab):\n",
    "    vector=[]\n",
    "    # For each word in filtered vocabulary list append the number of occurances in the tokens\n",
    "    for word in filtered_vocab:\n",
    "      vector.append(tokens.count(word))\n",
    "    return vector"
   ]
  },
  {
   "cell_type": "markdown",
   "id": "f6f581fd",
   "metadata": {},
   "source": [
    "### Choosing Words For Bag Of Words Method"
   ]
  },
  {
   "cell_type": "code",
   "execution_count": 7,
   "id": "033fab65",
   "metadata": {},
   "outputs": [],
   "source": [
    "# Given Key Words\n",
    "key_words = [\"great\", \"happy\", \"bad\", \"return\"]\n",
    "# I am using tab separated version that is why delimiter = \\t\n",
    "# It is common in texts, especially reviews, to see a comma in them\n",
    "data = pd.read_csv(\"C:\\\\Users\\\\elija\\\\Downloads\\\\reviews.txt\", delimiter = \"\\t\", quoting = 3, encoding= 'unicode_escape')\n",
    "# Convert the words in the reviews colom to lower case\n",
    "data['Review'] = data['Review'].str.strip().str.lower()\n",
    "texts = [\"The phone arrived in pretty decent condition. The front screen was scratch-free and the display is great, but there is a long scratch on the back of the phone. This doesn't bother me much because I always have a case on my phone. However, the issue with this phone is that the cellular signal won't work; the device detects the sim but the signal is bad. Apparently this is an issue with some iPhone 7 models, but the any free of charge repair is not valid because the phone is coming from a third party seller. After speaking with Apple, Verizon (my mobile carrier), AND Amazon, I've reached the conclusion that the issue is with the phone. I've tried everything to troubleshoot, but I will unfortunately have to return the item and get another one.\", \"iPhone 7 Black came in excellent condition. Like new. No scratches or scuffs. Works great. Was happy for couple months until phone started to develop issues with hearing callers and vs versa. Callers can’t hear me and I can’t hear callers, the sound is bad. Checked settings . Disabled WiFi calling. Hard reset phone. Updated iOS. Happens randomly. Suspect possible known defects on iPhone 7 with audio IC chips. I want to return the phone but I’m waiting to se for a month\"]"
   ]
  },
  {
   "cell_type": "code",
   "execution_count": 9,
   "id": "6d86c027",
   "metadata": {},
   "outputs": [],
   "source": [
    "# Splitting data for test and training\n",
    "\n",
    "x, x_test, y, y_test = train_test_split(data['Review'], data['Liked'], test_size=0.50, random_state=0)"
   ]
  },
  {
   "cell_type": "code",
   "execution_count": 6,
   "id": "5db60f17",
   "metadata": {},
   "outputs": [
    {
     "data": {
      "text/html": [
       "<div>\n",
       "<style scoped>\n",
       "    .dataframe tbody tr th:only-of-type {\n",
       "        vertical-align: middle;\n",
       "    }\n",
       "\n",
       "    .dataframe tbody tr th {\n",
       "        vertical-align: top;\n",
       "    }\n",
       "\n",
       "    .dataframe thead th {\n",
       "        text-align: right;\n",
       "    }\n",
       "</style>\n",
       "<table border=\"1\" class=\"dataframe\">\n",
       "  <thead>\n",
       "    <tr style=\"text-align: right;\">\n",
       "      <th></th>\n",
       "      <th>Review</th>\n",
       "      <th>Liked</th>\n",
       "    </tr>\n",
       "  </thead>\n",
       "  <tbody>\n",
       "    <tr>\n",
       "      <th>0</th>\n",
       "      <td>\"i've seen a lot of bad reviews for this phone...</td>\n",
       "      <td>1</td>\n",
       "    </tr>\n",
       "    <tr>\n",
       "      <th>1</th>\n",
       "      <td>\"this phone looks and performs great like it's...</td>\n",
       "      <td>1</td>\n",
       "    </tr>\n",
       "    <tr>\n",
       "      <th>2</th>\n",
       "      <td>\"don't listen to bad reviews! my phone arrived...</td>\n",
       "      <td>1</td>\n",
       "    </tr>\n",
       "    <tr>\n",
       "      <th>3</th>\n",
       "      <td>\"love this phone! i am so glad i bought a refu...</td>\n",
       "      <td>1</td>\n",
       "    </tr>\n",
       "    <tr>\n",
       "      <th>4</th>\n",
       "      <td>\"first, seller did a great job and i think i g...</td>\n",
       "      <td>1</td>\n",
       "    </tr>\n",
       "    <tr>\n",
       "      <th>5</th>\n",
       "      <td>\"received prompt delivery of the phone. i inse...</td>\n",
       "      <td>1</td>\n",
       "    </tr>\n",
       "    <tr>\n",
       "      <th>6</th>\n",
       "      <td>\"overall, the phone isn't too bad for the pric...</td>\n",
       "      <td>0</td>\n",
       "    </tr>\n",
       "    <tr>\n",
       "      <th>7</th>\n",
       "      <td>\"the iphone 7 i purchased was \"\"certified refu...</td>\n",
       "      <td>0</td>\n",
       "    </tr>\n",
       "    <tr>\n",
       "      <th>8</th>\n",
       "      <td>\"initially i was happy with the phone. it look...</td>\n",
       "      <td>0</td>\n",
       "    </tr>\n",
       "    <tr>\n",
       "      <th>9</th>\n",
       "      <td>\"be cautious - if you have any issues at all, ...</td>\n",
       "      <td>0</td>\n",
       "    </tr>\n",
       "  </tbody>\n",
       "</table>\n",
       "</div>"
      ],
      "text/plain": [
       "                                              Review  Liked\n",
       "0  \"i've seen a lot of bad reviews for this phone...      1\n",
       "1  \"this phone looks and performs great like it's...      1\n",
       "2  \"don't listen to bad reviews! my phone arrived...      1\n",
       "3  \"love this phone! i am so glad i bought a refu...      1\n",
       "4  \"first, seller did a great job and i think i g...      1\n",
       "5  \"received prompt delivery of the phone. i inse...      1\n",
       "6  \"overall, the phone isn't too bad for the pric...      0\n",
       "7  \"the iphone 7 i purchased was \"\"certified refu...      0\n",
       "8  \"initially i was happy with the phone. it look...      0\n",
       "9  \"be cautious - if you have any issues at all, ...      0"
      ]
     },
     "execution_count": 6,
     "metadata": {},
     "output_type": "execute_result"
    }
   ],
   "source": [
    "# Showcasing dataframe with proper indication of positive and negative reviews.\n",
    "data"
   ]
  },
  {
   "cell_type": "code",
   "execution_count": 10,
   "id": "87e1e4b5",
   "metadata": {},
   "outputs": [
    {
     "name": "stdout",
     "output_type": "stream",
     "text": [
      "   great  happy  bad  return\n",
      "0      0      2    1       0\n",
      "1      1      1    0       0\n",
      "2      1      1    1       0\n",
      "3      0      1    0       0\n",
      "4      1      1    1       0\n",
      "5      0      1    0       0\n",
      "6      0      0    3       1\n",
      "7      0      0    1       0\n",
      "8      1      1    1       1\n",
      "9      0      0    0       1\n"
     ]
    }
   ],
   "source": [
    "# This will return the occurances of each key word per review, also is vectorizing Review data.\n",
    "\n",
    "vectors = []\n",
    "for i in data['Review']:\n",
    "  tokens = i.split()\n",
    "  vector = vectorize(tokens, key_words)\n",
    "  vectors.append(vector)\n",
    "df = pd.DataFrame(vectors, columns = key_words)\n",
    "print(df)"
   ]
  },
  {
   "cell_type": "code",
   "execution_count": 11,
   "id": "77df3854",
   "metadata": {},
   "outputs": [],
   "source": [
    "# texts = [\"The phone arrived in pretty decent condition. The front screen was scratch-free and the display is great, but there is a long scratch on the back of the phone. This doesn't bother me much because I always have a case on my phone. However, the issue with this phone is that the cellular signal won't work; the device detects the sim but the signal is bad. Apparently this is an issue with some iPhone 7 models, but the any free of charge repair is not valid because the phone is coming from a third party seller. After speaking with Apple, Verizon (my mobile carrier), AND Amazon, I've reached the conclusion that the issue is with the phone. I've tried everything to troubleshoot, but I will unfortunately have to return the item and get another one.\", \"iPhone 7 Black came in excellent condition. Like new. No scratches or scuffs. Works great. Was happy for couple months until phone started to develop issues with hearing callers and vs versa. Callers can’t hear me and I can’t hear callers, the sound is bad. Checked settings . Disabled WiFi calling. Hard reset phone. Updated iOS. Happens randomly. Suspect possible known defects on iPhone 7 with audio IC chips. I want to return the phone but I’m waiting to se for a month\"]\n",
    "# vectors = []\n",
    "# for text in texts:\n",
    "#   tokens = text.split()\n",
    "#   neet = vectorize(tokens, key_words)\n",
    "#   vectors.append(neet)\n",
    "# df = pd.DataFrame(vectors, columns = key_words)\n",
    "# print(data)"
   ]
  },
  {
   "cell_type": "code",
   "execution_count": 13,
   "id": "579b9456",
   "metadata": {},
   "outputs": [
    {
     "name": "stdout",
     "output_type": "stream",
     "text": [
      "The model score is 0.8\n"
     ]
    }
   ],
   "source": [
    "# Returning model score of NB classifier.\n",
    "\n",
    "X = data['Review']\n",
    "y = data['Liked']\n",
    "vector = CountVectorizer(stop_words='english', vocabulary=key_words)\n",
    "X = vector.fit_transform(X).toarray()\n",
    "model = MultinomialNB()\n",
    "model.fit(X,y)\n",
    "print('The model score is', model.score(X,y))"
   ]
  },
  {
   "cell_type": "code",
   "execution_count": 14,
   "id": "54f45500",
   "metadata": {},
   "outputs": [
    {
     "data": {
      "text/html": [
       "<div>\n",
       "<style scoped>\n",
       "    .dataframe tbody tr th:only-of-type {\n",
       "        vertical-align: middle;\n",
       "    }\n",
       "\n",
       "    .dataframe tbody tr th {\n",
       "        vertical-align: top;\n",
       "    }\n",
       "\n",
       "    .dataframe thead th {\n",
       "        text-align: right;\n",
       "    }\n",
       "</style>\n",
       "<table border=\"1\" class=\"dataframe\">\n",
       "  <thead>\n",
       "    <tr style=\"text-align: right;\">\n",
       "      <th></th>\n",
       "      <th>Review</th>\n",
       "      <th>Liked</th>\n",
       "    </tr>\n",
       "  </thead>\n",
       "  <tbody>\n",
       "    <tr>\n",
       "      <th>0</th>\n",
       "      <td>The phone arrived in pretty decent condition. ...</td>\n",
       "      <td>0</td>\n",
       "    </tr>\n",
       "    <tr>\n",
       "      <th>1</th>\n",
       "      <td>iPhone 7 Black came in excellent condition. Li...</td>\n",
       "      <td>1</td>\n",
       "    </tr>\n",
       "  </tbody>\n",
       "</table>\n",
       "</div>"
      ],
      "text/plain": [
       "                                              Review  Liked\n",
       "0  The phone arrived in pretty decent condition. ...      0\n",
       "1  iPhone 7 Black came in excellent condition. Li...      1"
      ]
     },
     "execution_count": 14,
     "metadata": {},
     "output_type": "execute_result"
    }
   ],
   "source": [
    "# Making predicitions on test data\n",
    "\n",
    "predictions = model.predict(vector.transform(testing_df['Review']))\n",
    "testing_df['Liked'] = predictions\n",
    "testing_df"
   ]
  },
  {
   "cell_type": "code",
   "execution_count": 11,
   "id": "4c1e7518",
   "metadata": {},
   "outputs": [
    {
     "name": "stdout",
     "output_type": "stream",
     "text": [
      "Negative\n",
      "Positive\n"
     ]
    }
   ],
   "source": [
    "# Alternate way of showing predictions\n",
    "prediction = model.predict(vector.transform(texts))\n",
    "for p in prediction:\n",
    "  if p == 1:\n",
    "    print(\"Positive\")\n",
    "  else:\n",
    "    print(\"Negative\")"
   ]
  },
  {
   "cell_type": "code",
   "execution_count": 12,
   "id": "3c6b765b",
   "metadata": {},
   "outputs": [
    {
     "data": {
      "text/plain": [
       "array([[-1.67397643, -2.07944154, -0.98082925, -1.16315081],\n",
       "       [-1.33500107, -0.86499744, -1.55814462, -2.2512918 ]])"
      ]
     },
     "execution_count": 12,
     "metadata": {},
     "output_type": "execute_result"
    }
   ],
   "source": [
    "# model log probabilty\n",
    "model.feature_log_prob_"
   ]
  },
  {
   "cell_type": "markdown",
   "id": "30fcaf1f",
   "metadata": {},
   "source": [
    "### For this section, I will be Implement the backpropagation algorithm to train a neural network with only two hidden neurons (1 hidden layer)."
   ]
  },
  {
   "cell_type": "code",
   "execution_count": 15,
   "id": "234e3da4",
   "metadata": {},
   "outputs": [
    {
     "data": {
      "text/html": [
       "<div>\n",
       "<style scoped>\n",
       "    .dataframe tbody tr th:only-of-type {\n",
       "        vertical-align: middle;\n",
       "    }\n",
       "\n",
       "    .dataframe tbody tr th {\n",
       "        vertical-align: top;\n",
       "    }\n",
       "\n",
       "    .dataframe thead th {\n",
       "        text-align: right;\n",
       "    }\n",
       "</style>\n",
       "<table border=\"1\" class=\"dataframe\">\n",
       "  <thead>\n",
       "    <tr style=\"text-align: right;\">\n",
       "      <th></th>\n",
       "      <th>input</th>\n",
       "      <th>output</th>\n",
       "    </tr>\n",
       "  </thead>\n",
       "  <tbody>\n",
       "    <tr>\n",
       "      <th>0</th>\n",
       "      <td>0.318328</td>\n",
       "      <td>0.750789</td>\n",
       "    </tr>\n",
       "    <tr>\n",
       "      <th>1</th>\n",
       "      <td>0.344461</td>\n",
       "      <td>-0.648483</td>\n",
       "    </tr>\n",
       "    <tr>\n",
       "      <th>2</th>\n",
       "      <td>0.357117</td>\n",
       "      <td>1.122161</td>\n",
       "    </tr>\n",
       "    <tr>\n",
       "      <th>3</th>\n",
       "      <td>0.461714</td>\n",
       "      <td>-0.024687</td>\n",
       "    </tr>\n",
       "    <tr>\n",
       "      <th>4</th>\n",
       "      <td>0.971318</td>\n",
       "      <td>2.558952</td>\n",
       "    </tr>\n",
       "    <tr>\n",
       "      <th>5</th>\n",
       "      <td>0.975404</td>\n",
       "      <td>2.707666</td>\n",
       "    </tr>\n",
       "    <tr>\n",
       "      <th>6</th>\n",
       "      <td>1.269868</td>\n",
       "      <td>3.532343</td>\n",
       "    </tr>\n",
       "    <tr>\n",
       "      <th>7</th>\n",
       "      <td>1.418863</td>\n",
       "      <td>2.639893</td>\n",
       "    </tr>\n",
       "    <tr>\n",
       "      <th>8</th>\n",
       "      <td>1.576131</td>\n",
       "      <td>1.487547</td>\n",
       "    </tr>\n",
       "    <tr>\n",
       "      <th>9</th>\n",
       "      <td>1.711867</td>\n",
       "      <td>2.339642</td>\n",
       "    </tr>\n",
       "  </tbody>\n",
       "</table>\n",
       "</div>"
      ],
      "text/plain": [
       "      input    output\n",
       "0  0.318328  0.750789\n",
       "1  0.344461 -0.648483\n",
       "2  0.357117  1.122161\n",
       "3  0.461714 -0.024687\n",
       "4  0.971318  2.558952\n",
       "5  0.975404  2.707666\n",
       "6  1.269868  3.532343\n",
       "7  1.418863  2.639893\n",
       "8  1.576131  1.487547\n",
       "9  1.711867  2.339642"
      ]
     },
     "execution_count": 15,
     "metadata": {},
     "output_type": "execute_result"
    }
   ],
   "source": [
    "# Making sure file reads properly\n",
    "col_names = ['input', 'output']\n",
    "df = pd.read_csv(\"C:\\\\Users\\\\elija\\\\Downloads\\\\inputHW_ExtraCredit.csv\", names = col_names)\n",
    "df.head(10)"
   ]
  },
  {
   "cell_type": "markdown",
   "id": "ce7774b1",
   "metadata": {},
   "source": [
    "### Importing Packages"
   ]
  },
  {
   "cell_type": "code",
   "execution_count": 18,
   "id": "844a7c0d",
   "metadata": {},
   "outputs": [],
   "source": [
    "import tensorflow as tf\n",
    "from tensorflow.keras.models import Sequential\n",
    "from tensorflow.keras.layers import Dense\n",
    "import sklearn\n",
    "import matplotlib.pyplot as plt\n",
    "import seaborn as sns\n",
    "# Splitting input & output into train and test set.\n",
    "X = df[\"input\"]\n",
    "y = df[\"output\"]\n",
    "x_train, x_test, y_train, y_test = train_test_split(X, y)"
   ]
  },
  {
   "cell_type": "code",
   "execution_count": 19,
   "id": "db20079c",
   "metadata": {},
   "outputs": [],
   "source": [
    "model = Sequential()\n",
    "model.add(Dense(1, input_shape=(1,), activation=\"linear\"))\n",
    "model.add(Dense(2, activation=\"linear\"))\n",
    "model.add(Dense(1, activation=\"linear\"))"
   ]
  },
  {
   "cell_type": "code",
   "execution_count": 20,
   "id": "d0bcf1e3",
   "metadata": {},
   "outputs": [],
   "source": [
    "model.compile(loss='mean_absolute_error', optimizer='sgd', metrics=[tf.keras.metrics.MeanAbsoluteError()])"
   ]
  },
  {
   "cell_type": "code",
   "execution_count": 21,
   "id": "eceb7e64",
   "metadata": {},
   "outputs": [
    {
     "name": "stdout",
     "output_type": "stream",
     "text": [
      "Model: \"sequential\"\n",
      "_________________________________________________________________\n",
      " Layer (type)                Output Shape              Param #   \n",
      "=================================================================\n",
      " dense (Dense)               (None, 1)                 2         \n",
      "                                                                 \n",
      " dense_1 (Dense)             (None, 2)                 4         \n",
      "                                                                 \n",
      " dense_2 (Dense)             (None, 1)                 3         \n",
      "                                                                 \n",
      "=================================================================\n",
      "Total params: 9\n",
      "Trainable params: 9\n",
      "Non-trainable params: 0\n",
      "_________________________________________________________________\n"
     ]
    }
   ],
   "source": [
    "model.summary()"
   ]
  },
  {
   "cell_type": "code",
   "execution_count": 22,
   "id": "421ebc7d",
   "metadata": {},
   "outputs": [
    {
     "name": "stdout",
     "output_type": "stream",
     "text": [
      "Epoch 1/150\n",
      "5/5 [==============================] - 1s 3ms/step - loss: 7.2150 - mean_absolute_error: 7.2150\n",
      "Epoch 2/150\n",
      "5/5 [==============================] - 0s 3ms/step - loss: 1.6225 - mean_absolute_error: 1.6225\n",
      "Epoch 3/150\n",
      "5/5 [==============================] - 0s 2ms/step - loss: 1.2656 - mean_absolute_error: 1.2656\n",
      "Epoch 4/150\n",
      "5/5 [==============================] - 0s 2ms/step - loss: 1.6550 - mean_absolute_error: 1.6550\n",
      "Epoch 5/150\n",
      "5/5 [==============================] - 0s 2ms/step - loss: 1.4065 - mean_absolute_error: 1.4065\n",
      "Epoch 6/150\n",
      "5/5 [==============================] - 0s 2ms/step - loss: 1.8085 - mean_absolute_error: 1.8085\n",
      "Epoch 7/150\n",
      "5/5 [==============================] - 0s 4ms/step - loss: 1.1494 - mean_absolute_error: 1.1494\n",
      "Epoch 8/150\n",
      "5/5 [==============================] - 0s 3ms/step - loss: 1.4293 - mean_absolute_error: 1.4293\n",
      "Epoch 9/150\n",
      "5/5 [==============================] - 0s 3ms/step - loss: 1.3258 - mean_absolute_error: 1.3258\n",
      "Epoch 10/150\n",
      "5/5 [==============================] - 0s 2ms/step - loss: 1.5907 - mean_absolute_error: 1.5907\n",
      "Epoch 11/150\n",
      "5/5 [==============================] - 0s 2ms/step - loss: 1.7242 - mean_absolute_error: 1.7242\n",
      "Epoch 12/150\n",
      "5/5 [==============================] - 0s 3ms/step - loss: 1.4859 - mean_absolute_error: 1.4859\n",
      "Epoch 13/150\n",
      "5/5 [==============================] - 0s 3ms/step - loss: 1.2143 - mean_absolute_error: 1.2143\n",
      "Epoch 14/150\n",
      "5/5 [==============================] - 0s 3ms/step - loss: 1.7258 - mean_absolute_error: 1.7258\n",
      "Epoch 15/150\n",
      "5/5 [==============================] - 0s 2ms/step - loss: 1.3583 - mean_absolute_error: 1.3583\n",
      "Epoch 16/150\n",
      "5/5 [==============================] - 0s 2ms/step - loss: 1.0647 - mean_absolute_error: 1.0647\n",
      "Epoch 17/150\n",
      "5/5 [==============================] - 0s 2ms/step - loss: 1.5920 - mean_absolute_error: 1.5920\n",
      "Epoch 18/150\n",
      "5/5 [==============================] - 0s 3ms/step - loss: 1.1969 - mean_absolute_error: 1.1969\n",
      "Epoch 19/150\n",
      "5/5 [==============================] - 0s 2ms/step - loss: 1.4493 - mean_absolute_error: 1.4493\n",
      "Epoch 20/150\n",
      "5/5 [==============================] - 0s 3ms/step - loss: 1.3785 - mean_absolute_error: 1.3785\n",
      "Epoch 21/150\n",
      "5/5 [==============================] - 0s 3ms/step - loss: 1.3719 - mean_absolute_error: 1.3719\n",
      "Epoch 22/150\n",
      "5/5 [==============================] - 0s 3ms/step - loss: 1.2017 - mean_absolute_error: 1.2017\n",
      "Epoch 23/150\n",
      "5/5 [==============================] - 0s 2ms/step - loss: 1.2202 - mean_absolute_error: 1.2202\n",
      "Epoch 24/150\n",
      "5/5 [==============================] - 0s 2ms/step - loss: 1.4253 - mean_absolute_error: 1.4253\n",
      "Epoch 25/150\n",
      "5/5 [==============================] - 0s 3ms/step - loss: 1.4350 - mean_absolute_error: 1.4350\n",
      "Epoch 26/150\n",
      "5/5 [==============================] - 0s 2ms/step - loss: 1.2512 - mean_absolute_error: 1.2512\n",
      "Epoch 27/150\n",
      "5/5 [==============================] - 0s 2ms/step - loss: 1.2121 - mean_absolute_error: 1.2121\n",
      "Epoch 28/150\n",
      "5/5 [==============================] - 0s 2ms/step - loss: 1.6777 - mean_absolute_error: 1.6777\n",
      "Epoch 29/150\n",
      "5/5 [==============================] - 0s 2ms/step - loss: 1.3606 - mean_absolute_error: 1.3606\n",
      "Epoch 30/150\n",
      "5/5 [==============================] - 0s 2ms/step - loss: 1.0691 - mean_absolute_error: 1.0691\n",
      "Epoch 31/150\n",
      "5/5 [==============================] - 0s 2ms/step - loss: 1.1589 - mean_absolute_error: 1.1589\n",
      "Epoch 32/150\n",
      "5/5 [==============================] - 0s 2ms/step - loss: 1.3142 - mean_absolute_error: 1.3142\n",
      "Epoch 33/150\n",
      "5/5 [==============================] - 0s 2ms/step - loss: 1.2892 - mean_absolute_error: 1.2892\n",
      "Epoch 34/150\n",
      "5/5 [==============================] - 0s 3ms/step - loss: 1.0310 - mean_absolute_error: 1.0310\n",
      "Epoch 35/150\n",
      "5/5 [==============================] - 0s 2ms/step - loss: 1.0514 - mean_absolute_error: 1.0514\n",
      "Epoch 36/150\n",
      "5/5 [==============================] - 0s 2ms/step - loss: 0.9959 - mean_absolute_error: 0.9959\n",
      "Epoch 37/150\n",
      "5/5 [==============================] - 0s 2ms/step - loss: 1.2964 - mean_absolute_error: 1.2964\n",
      "Epoch 38/150\n",
      "5/5 [==============================] - 0s 2ms/step - loss: 1.2482 - mean_absolute_error: 1.2482\n",
      "Epoch 39/150\n",
      "5/5 [==============================] - 0s 3ms/step - loss: 1.2146 - mean_absolute_error: 1.2146\n",
      "Epoch 40/150\n",
      "5/5 [==============================] - 0s 2ms/step - loss: 1.2385 - mean_absolute_error: 1.2385\n",
      "Epoch 41/150\n",
      "5/5 [==============================] - 0s 2ms/step - loss: 1.4767 - mean_absolute_error: 1.4767\n",
      "Epoch 42/150\n",
      "5/5 [==============================] - 0s 2ms/step - loss: 1.3272 - mean_absolute_error: 1.3272\n",
      "Epoch 43/150\n",
      "5/5 [==============================] - 0s 2ms/step - loss: 1.1196 - mean_absolute_error: 1.1196\n",
      "Epoch 44/150\n",
      "5/5 [==============================] - 0s 2ms/step - loss: 1.2022 - mean_absolute_error: 1.2022\n",
      "Epoch 45/150\n",
      "5/5 [==============================] - 0s 2ms/step - loss: 1.3844 - mean_absolute_error: 1.3844\n",
      "Epoch 46/150\n",
      "5/5 [==============================] - 0s 3ms/step - loss: 1.1827 - mean_absolute_error: 1.1827\n",
      "Epoch 47/150\n",
      "5/5 [==============================] - 0s 2ms/step - loss: 0.9745 - mean_absolute_error: 0.9745\n",
      "Epoch 48/150\n",
      "5/5 [==============================] - 0s 2ms/step - loss: 1.3867 - mean_absolute_error: 1.3867\n",
      "Epoch 49/150\n",
      "5/5 [==============================] - 0s 2ms/step - loss: 1.2941 - mean_absolute_error: 1.2941\n",
      "Epoch 50/150\n",
      "5/5 [==============================] - 0s 2ms/step - loss: 1.0724 - mean_absolute_error: 1.0724\n",
      "Epoch 51/150\n",
      "5/5 [==============================] - 0s 3ms/step - loss: 1.1706 - mean_absolute_error: 1.1706\n",
      "Epoch 52/150\n",
      "5/5 [==============================] - 0s 3ms/step - loss: 1.1591 - mean_absolute_error: 1.1591\n",
      "Epoch 53/150\n",
      "5/5 [==============================] - 0s 2ms/step - loss: 1.2872 - mean_absolute_error: 1.2872\n",
      "Epoch 54/150\n",
      "5/5 [==============================] - 0s 2ms/step - loss: 1.2726 - mean_absolute_error: 1.2726\n",
      "Epoch 55/150\n",
      "5/5 [==============================] - 0s 2ms/step - loss: 1.4124 - mean_absolute_error: 1.4124\n",
      "Epoch 56/150\n",
      "5/5 [==============================] - 0s 3ms/step - loss: 1.7228 - mean_absolute_error: 1.7228\n",
      "Epoch 57/150\n",
      "5/5 [==============================] - 0s 2ms/step - loss: 1.4430 - mean_absolute_error: 1.4430\n",
      "Epoch 58/150\n",
      "5/5 [==============================] - 0s 1ms/step - loss: 1.2126 - mean_absolute_error: 1.2126\n",
      "Epoch 59/150\n",
      "5/5 [==============================] - 0s 2ms/step - loss: 1.1169 - mean_absolute_error: 1.1169\n",
      "Epoch 60/150\n",
      "5/5 [==============================] - 0s 2ms/step - loss: 1.1728 - mean_absolute_error: 1.1728\n",
      "Epoch 61/150\n",
      "5/5 [==============================] - 0s 2ms/step - loss: 1.3399 - mean_absolute_error: 1.3399\n",
      "Epoch 62/150\n",
      "5/5 [==============================] - 0s 2ms/step - loss: 1.2816 - mean_absolute_error: 1.2816\n",
      "Epoch 63/150\n",
      "5/5 [==============================] - 0s 2ms/step - loss: 1.5753 - mean_absolute_error: 1.5753\n",
      "Epoch 64/150\n",
      "5/5 [==============================] - 0s 2ms/step - loss: 1.1453 - mean_absolute_error: 1.1453\n",
      "Epoch 65/150\n",
      "5/5 [==============================] - 0s 2ms/step - loss: 1.0687 - mean_absolute_error: 1.0687\n",
      "Epoch 66/150\n",
      "5/5 [==============================] - 0s 2ms/step - loss: 1.2571 - mean_absolute_error: 1.2571\n",
      "Epoch 67/150\n",
      "5/5 [==============================] - 0s 2ms/step - loss: 1.1428 - mean_absolute_error: 1.1428\n",
      "Epoch 68/150\n",
      "5/5 [==============================] - 0s 2ms/step - loss: 1.6810 - mean_absolute_error: 1.6810\n",
      "Epoch 69/150\n",
      "5/5 [==============================] - 0s 2ms/step - loss: 1.1419 - mean_absolute_error: 1.1419\n",
      "Epoch 70/150\n",
      "5/5 [==============================] - 0s 2ms/step - loss: 1.0587 - mean_absolute_error: 1.0587\n",
      "Epoch 71/150\n",
      "5/5 [==============================] - 0s 2ms/step - loss: 1.1030 - mean_absolute_error: 1.1030\n",
      "Epoch 72/150\n",
      "5/5 [==============================] - 0s 2ms/step - loss: 1.1228 - mean_absolute_error: 1.1228\n",
      "Epoch 73/150\n",
      "5/5 [==============================] - 0s 2ms/step - loss: 1.0001 - mean_absolute_error: 1.0001\n",
      "Epoch 74/150\n",
      "5/5 [==============================] - 0s 2ms/step - loss: 1.2934 - mean_absolute_error: 1.2934\n",
      "Epoch 75/150\n",
      "5/5 [==============================] - 0s 2ms/step - loss: 1.0062 - mean_absolute_error: 1.0062\n",
      "Epoch 76/150\n",
      "5/5 [==============================] - 0s 2ms/step - loss: 1.4449 - mean_absolute_error: 1.4449\n",
      "Epoch 77/150\n",
      "5/5 [==============================] - 0s 2ms/step - loss: 1.0774 - mean_absolute_error: 1.0774\n",
      "Epoch 78/150\n",
      "5/5 [==============================] - 0s 2ms/step - loss: 1.0666 - mean_absolute_error: 1.0666\n",
      "Epoch 79/150\n",
      "5/5 [==============================] - 0s 2ms/step - loss: 1.0718 - mean_absolute_error: 1.0718\n",
      "Epoch 80/150\n",
      "5/5 [==============================] - 0s 2ms/step - loss: 1.0653 - mean_absolute_error: 1.0653\n",
      "Epoch 81/150\n",
      "5/5 [==============================] - 0s 2ms/step - loss: 1.1970 - mean_absolute_error: 1.1970\n",
      "Epoch 82/150\n",
      "5/5 [==============================] - 0s 1ms/step - loss: 1.3002 - mean_absolute_error: 1.3002\n",
      "Epoch 83/150\n",
      "5/5 [==============================] - 0s 2ms/step - loss: 1.0775 - mean_absolute_error: 1.0775\n",
      "Epoch 84/150\n",
      "5/5 [==============================] - 0s 3ms/step - loss: 1.2112 - mean_absolute_error: 1.2112\n",
      "Epoch 85/150\n",
      "5/5 [==============================] - 0s 2ms/step - loss: 1.0852 - mean_absolute_error: 1.0852\n",
      "Epoch 86/150\n",
      "5/5 [==============================] - 0s 2ms/step - loss: 1.2983 - mean_absolute_error: 1.2983\n",
      "Epoch 87/150\n",
      "5/5 [==============================] - 0s 1ms/step - loss: 1.4525 - mean_absolute_error: 1.4525\n",
      "Epoch 88/150\n",
      "5/5 [==============================] - 0s 2ms/step - loss: 1.3406 - mean_absolute_error: 1.3406\n",
      "Epoch 89/150\n",
      "5/5 [==============================] - 0s 2ms/step - loss: 1.0335 - mean_absolute_error: 1.0335\n",
      "Epoch 90/150\n",
      "5/5 [==============================] - 0s 1ms/step - loss: 1.2306 - mean_absolute_error: 1.2306\n",
      "Epoch 91/150\n",
      "5/5 [==============================] - 0s 2ms/step - loss: 1.1380 - mean_absolute_error: 1.1380\n",
      "Epoch 92/150\n",
      "5/5 [==============================] - 0s 2ms/step - loss: 1.3417 - mean_absolute_error: 1.3417\n",
      "Epoch 93/150\n",
      "5/5 [==============================] - 0s 1ms/step - loss: 1.1393 - mean_absolute_error: 1.1393\n",
      "Epoch 94/150\n",
      "5/5 [==============================] - 0s 2ms/step - loss: 1.4292 - mean_absolute_error: 1.4292\n",
      "Epoch 95/150\n",
      "5/5 [==============================] - 0s 2ms/step - loss: 1.2642 - mean_absolute_error: 1.2642\n",
      "Epoch 96/150\n",
      "5/5 [==============================] - 0s 1ms/step - loss: 1.1253 - mean_absolute_error: 1.1253\n",
      "Epoch 97/150\n",
      "5/5 [==============================] - 0s 2ms/step - loss: 1.4503 - mean_absolute_error: 1.4503\n",
      "Epoch 98/150\n",
      "5/5 [==============================] - 0s 2ms/step - loss: 1.4755 - mean_absolute_error: 1.4755\n",
      "Epoch 99/150\n",
      "5/5 [==============================] - 0s 2ms/step - loss: 1.2462 - mean_absolute_error: 1.2462\n",
      "Epoch 100/150\n",
      "5/5 [==============================] - 0s 2ms/step - loss: 1.0446 - mean_absolute_error: 1.0446\n",
      "Epoch 101/150\n",
      "5/5 [==============================] - 0s 2ms/step - loss: 1.4009 - mean_absolute_error: 1.4009\n",
      "Epoch 102/150\n",
      "5/5 [==============================] - 0s 2ms/step - loss: 1.0933 - mean_absolute_error: 1.0933\n",
      "Epoch 103/150\n",
      "5/5 [==============================] - 0s 2ms/step - loss: 1.1260 - mean_absolute_error: 1.1260\n",
      "Epoch 104/150\n",
      "5/5 [==============================] - 0s 2ms/step - loss: 1.1507 - mean_absolute_error: 1.1507\n",
      "Epoch 105/150\n",
      "5/5 [==============================] - 0s 3ms/step - loss: 0.9895 - mean_absolute_error: 0.9895\n",
      "Epoch 106/150\n",
      "5/5 [==============================] - 0s 2ms/step - loss: 1.0268 - mean_absolute_error: 1.0268\n",
      "Epoch 107/150\n",
      "5/5 [==============================] - 0s 2ms/step - loss: 1.3972 - mean_absolute_error: 1.3972\n",
      "Epoch 108/150\n",
      "5/5 [==============================] - 0s 2ms/step - loss: 1.2149 - mean_absolute_error: 1.2149\n",
      "Epoch 109/150\n",
      "5/5 [==============================] - 0s 2ms/step - loss: 1.2083 - mean_absolute_error: 1.2083\n",
      "Epoch 110/150\n",
      "5/5 [==============================] - 0s 2ms/step - loss: 1.3167 - mean_absolute_error: 1.3167\n",
      "Epoch 111/150\n",
      "5/5 [==============================] - 0s 2ms/step - loss: 1.1520 - mean_absolute_error: 1.1520\n",
      "Epoch 112/150\n",
      "5/5 [==============================] - 0s 2ms/step - loss: 1.0554 - mean_absolute_error: 1.0554\n",
      "Epoch 113/150\n",
      "5/5 [==============================] - 0s 2ms/step - loss: 1.1454 - mean_absolute_error: 1.1454\n",
      "Epoch 114/150\n",
      "5/5 [==============================] - 0s 2ms/step - loss: 1.1314 - mean_absolute_error: 1.1314\n",
      "Epoch 115/150\n",
      "5/5 [==============================] - 0s 2ms/step - loss: 1.1639 - mean_absolute_error: 1.1639\n",
      "Epoch 116/150\n",
      "5/5 [==============================] - 0s 2ms/step - loss: 1.0598 - mean_absolute_error: 1.0598\n",
      "Epoch 117/150\n",
      "5/5 [==============================] - 0s 2ms/step - loss: 1.0338 - mean_absolute_error: 1.0338\n",
      "Epoch 118/150\n",
      "5/5 [==============================] - 0s 2ms/step - loss: 1.3846 - mean_absolute_error: 1.3846\n",
      "Epoch 119/150\n",
      "5/5 [==============================] - 0s 2ms/step - loss: 1.4407 - mean_absolute_error: 1.4407\n",
      "Epoch 120/150\n",
      "5/5 [==============================] - 0s 2ms/step - loss: 1.3917 - mean_absolute_error: 1.3917\n",
      "Epoch 121/150\n",
      "5/5 [==============================] - 0s 3ms/step - loss: 1.5801 - mean_absolute_error: 1.5801\n",
      "Epoch 122/150\n",
      "5/5 [==============================] - 0s 1ms/step - loss: 1.2500 - mean_absolute_error: 1.2500\n",
      "Epoch 123/150\n",
      "5/5 [==============================] - 0s 2ms/step - loss: 1.2026 - mean_absolute_error: 1.2026\n",
      "Epoch 124/150\n",
      "5/5 [==============================] - 0s 2ms/step - loss: 1.3062 - mean_absolute_error: 1.3062\n",
      "Epoch 125/150\n",
      "5/5 [==============================] - 0s 2ms/step - loss: 1.3303 - mean_absolute_error: 1.3303\n",
      "Epoch 126/150\n",
      "5/5 [==============================] - 0s 2ms/step - loss: 1.0789 - mean_absolute_error: 1.0789\n",
      "Epoch 127/150\n",
      "5/5 [==============================] - 0s 2ms/step - loss: 1.2401 - mean_absolute_error: 1.2401\n",
      "Epoch 128/150\n",
      "5/5 [==============================] - 0s 2ms/step - loss: 1.2276 - mean_absolute_error: 1.2276\n",
      "Epoch 129/150\n",
      "5/5 [==============================] - 0s 1ms/step - loss: 1.3057 - mean_absolute_error: 1.3057\n",
      "Epoch 130/150\n",
      "5/5 [==============================] - 0s 2ms/step - loss: 1.0249 - mean_absolute_error: 1.0249\n",
      "Epoch 131/150\n",
      "5/5 [==============================] - 0s 2ms/step - loss: 1.4741 - mean_absolute_error: 1.4741\n",
      "Epoch 132/150\n",
      "5/5 [==============================] - 0s 2ms/step - loss: 1.3600 - mean_absolute_error: 1.3600\n",
      "Epoch 133/150\n",
      "5/5 [==============================] - 0s 2ms/step - loss: 1.0866 - mean_absolute_error: 1.0866\n",
      "Epoch 134/150\n",
      "5/5 [==============================] - 0s 2ms/step - loss: 1.4466 - mean_absolute_error: 1.4466\n",
      "Epoch 135/150\n",
      "5/5 [==============================] - 0s 2ms/step - loss: 1.3185 - mean_absolute_error: 1.3185\n",
      "Epoch 136/150\n",
      "5/5 [==============================] - 0s 2ms/step - loss: 1.1863 - mean_absolute_error: 1.1863\n",
      "Epoch 137/150\n",
      "5/5 [==============================] - 0s 2ms/step - loss: 1.4805 - mean_absolute_error: 1.4805\n",
      "Epoch 138/150\n",
      "5/5 [==============================] - 0s 2ms/step - loss: 1.1526 - mean_absolute_error: 1.1526\n",
      "Epoch 139/150\n",
      "5/5 [==============================] - 0s 2ms/step - loss: 1.2569 - mean_absolute_error: 1.2569\n",
      "Epoch 140/150\n",
      "5/5 [==============================] - 0s 2ms/step - loss: 1.4903 - mean_absolute_error: 1.4903\n",
      "Epoch 141/150\n",
      "5/5 [==============================] - 0s 2ms/step - loss: 1.0703 - mean_absolute_error: 1.0703\n",
      "Epoch 142/150\n",
      "5/5 [==============================] - 0s 2ms/step - loss: 1.1522 - mean_absolute_error: 1.1522\n",
      "Epoch 143/150\n",
      "5/5 [==============================] - 0s 2ms/step - loss: 1.0091 - mean_absolute_error: 1.0091\n",
      "Epoch 144/150\n",
      "5/5 [==============================] - 0s 3ms/step - loss: 1.1685 - mean_absolute_error: 1.1685\n",
      "Epoch 145/150\n",
      "5/5 [==============================] - 0s 4ms/step - loss: 1.2724 - mean_absolute_error: 1.2724\n",
      "Epoch 146/150\n",
      "5/5 [==============================] - 0s 2ms/step - loss: 1.0138 - mean_absolute_error: 1.0138\n",
      "Epoch 147/150\n",
      "5/5 [==============================] - 0s 2ms/step - loss: 1.2826 - mean_absolute_error: 1.2826\n",
      "Epoch 148/150\n",
      "5/5 [==============================] - 0s 4ms/step - loss: 1.2722 - mean_absolute_error: 1.2722\n",
      "Epoch 149/150\n",
      "5/5 [==============================] - 0s 2ms/step - loss: 1.2770 - mean_absolute_error: 1.2770\n",
      "Epoch 150/150\n",
      "5/5 [==============================] - 0s 3ms/step - loss: 1.4148 - mean_absolute_error: 1.4148\n"
     ]
    }
   ],
   "source": [
    "# Running Backproogation\n",
    "\n",
    "fitted_model = model.fit(X, y,epochs=150,verbose=1 ,batch_size=10, shuffle= True)"
   ]
  },
  {
   "cell_type": "code",
   "execution_count": 35,
   "id": "c52c7bd8",
   "metadata": {},
   "outputs": [
    {
     "data": {
      "text/plain": [
       "[array([[-1.4508939]], dtype=float32), array([0.00924887], dtype=float32)]"
      ]
     },
     "execution_count": 35,
     "metadata": {},
     "output_type": "execute_result"
    }
   ],
   "source": [
    "model.layers[0].get_weights()"
   ]
  },
  {
   "cell_type": "code",
   "execution_count": 41,
   "id": "361627f5",
   "metadata": {},
   "outputs": [
    {
     "data": {
      "image/png": "[encoded data removed]",
      "text/plain": [
       "<Figure size 864x576 with 1 Axes>"
      ]
     },
     "metadata": {
      "needs_background": "light"
     },
     "output_type": "display_data"
    }
   ],
   "source": [
    "plt.figure(figsize=(12, 8))\n",
    "sns.scatterplot(data=df, x=X, y=y, size=y, alpha=0.5, hue=y, palette='viridis')\n",
    "plt.scatter(np.squeeze(model.predict_on_batch(X)),np.squeeze(y),c='red')\n",
    "plt.xlabel('Input')\n",
    "plt.ylabel('Predicted Output')\n",
    "plt.show()"
   ]
  },
  {
   "cell_type": "code",
   "execution_count": 16,
   "id": "2405df5a",
   "metadata": {},
   "outputs": [
    {
     "data": {
      "text/plain": [
       "'We can see that correlation between these two axes is the predicted output is the optimized input vector.'"
      ]
     },
     "execution_count": 16,
     "metadata": {},
     "output_type": "execute_result"
    }
   ],
   "source": [
    "'We can see that correlation between these two axes is the predicted output is the optimized input vector.'"
   ]
  },
  {
   "cell_type": "code",
   "execution_count": null,
   "id": "b52a0cf0",
   "metadata": {},
   "outputs": [],
   "source": []
  }
 ],
 "metadata": {
  "kernelspec": {
   "display_name": "Python 3",
   "language": "python",
   "name": "python3"
  },
  "language_info": {
   "codemirror_mode": {
    "name": "ipython",
    "version": 3
   },
   "file_extension": ".py",
   "mimetype": "text/x-python",
   "name": "python",
   "nbconvert_exporter": "python",
   "pygments_lexer": "ipython3",
   "version": "3.8.8"
  }
 },
 "nbformat": 4,
 "nbformat_minor": 5
}
